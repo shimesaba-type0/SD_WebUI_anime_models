{
  "nbformat": 4,
  "nbformat_minor": 0,
  "metadata": {
    "colab": {
      "provenance": [],
      "gpuType": "A100",
      "authorship_tag": "ABX9TyMS6bAlFODT7pBkHmxY7mTk",
      "include_colab_link": true
    },
    "kernelspec": {
      "name": "python3",
      "display_name": "Python 3"
    },
    "language_info": {
      "name": "python"
    },
    "accelerator": "GPU"
  },
  "cells": [
    {
      "cell_type": "markdown",
      "metadata": {
        "id": "view-in-github",
        "colab_type": "text"
      },
      "source": [
        "<a href=\"https://colab.research.google.com/github/shimesaba-type0/SD_WebUI_anime_models/blob/main/SD_WebUI_anime_models.ipynb\" target=\"_parent\"><img src=\"https://colab.research.google.com/assets/colab-badge.svg\" alt=\"Open In Colab\"/></a>"
      ]
    },
    {
      "cell_type": "markdown",
      "source": [
        "## これは何？\n",
        "\n",
        "これはアニメのモデルを 3つほど集めて Stable Diffusion Web UI で使えるようにしたものです  \n",
        "\n",
        "## 注意点\n",
        "\n",
        "ご自由にお使いください  \n",
        "ただし、当方責任は持ちませんので自己責任でお願いします  \n",
        "\n",
        "## 使い方  \n",
        "\n",
        "- ランタイム -> ランタイムの変更 で GPU を選択して保存する\n",
        "- Step by Step で実行することを推奨する\n",
        "  - 失敗したらそのセルからやり直してください\n",
        "  - モデルのダウンロードは時間がかかります。待ちましょう\n",
        "  - モデルのダウンロードが成功すると `(OK):download completed.` と出力されます。この出力で正しくダウンロードされたか一次判定しましょう\n",
        "  - モデルのダウンロードに失敗したら、失敗したセルを再度実行させてください\n",
        "- 最後のセルを実行させたらまたしばらく待ちます\n",
        "- 出てきた URL をクリックして新しいタブまたはウィンドウが開くので、それを選択（ここで出てきたものが Stable Diffusion です）\n",
        "- 画像生成を楽しむ!\n",
        "\n",
        "Let's Enjoy!!"
      ],
      "metadata": {
        "id": "MTJuR0Geyjtj"
      }
    },
    {
      "cell_type": "code",
      "execution_count": null,
      "metadata": {
        "id": "XbCuYkQEWE_x"
      },
      "outputs": [],
      "source": [
        "!nvidia-smi\n",
        "!apt install aria2"
      ]
    },
    {
      "cell_type": "markdown",
      "source": [
        "Download Stable Diffusion tag 1.4.0"
      ],
      "metadata": {
        "id": "2t9s_HgVWhjr"
      }
    },
    {
      "cell_type": "code",
      "source": [
        "# clone stable diffusion web ui\n",
        "!git clone -b v1.4.0 https://github.com/AUTOMATIC1111/stable-diffusion-webui\n",
        "# move dir\n",
        "%cd /content/stable-diffusion-webui"
      ],
      "metadata": {
        "id": "Dgkiw1MfWfQP"
      },
      "execution_count": null,
      "outputs": []
    },
    {
      "cell_type": "markdown",
      "source": [
        "Download Model: LastpieceCore_A0621.fp16.safetensors"
      ],
      "metadata": {
        "id": "6IZhgTZbe7dg"
      }
    },
    {
      "cell_type": "code",
      "source": [
        "!aria2c \\\n",
        "  -d /content/stable-diffusion-webui/models/Stable-diffusion \\\n",
        "  -o LastpieceCore_A0621.fp16.safetensors \\\n",
        "  -x 2 \\\n",
        "  https://huggingface.co/konapieces/LastpieceCore/resolve/main/models/A0621/LastpieceCore_A0621.fp16.safetensors\n",
        "\n",
        "# check model size: Around 2GB. モデルの容量チェック。おおよそ 2GB で OK\n",
        "!ls -lh /content/stable-diffusion-webui/models/Stable-diffusion/LastpieceCore_A0621.fp16.safetensors | awk '{print \"This model size =>\", $5}'"
      ],
      "metadata": {
        "id": "HODynqM3e4D8"
      },
      "execution_count": null,
      "outputs": []
    },
    {
      "cell_type": "markdown",
      "source": [
        "Download Model: 7th_anime_v1.1"
      ],
      "metadata": {
        "id": "kGYAO-C5rH_K"
      }
    },
    {
      "cell_type": "code",
      "source": [
        "!aria2c \\\n",
        "  -d /content/stable-diffusion-webui/models/Stable-diffusion \\\n",
        "  -o 7th_anime_v1.1.safetensors \\\n",
        "  -x 2 \\\n",
        "  https://huggingface.co/syaimu/7th_Layer/resolve/main/7th_anime_v1/7th_anime_v1.1.safetensors\n",
        "\n",
        "# check model size: Around 4GB. モデルの容量チェック。おおよそ 4GB で OK\n",
        "!ls -lh /content/stable-diffusion-webui/models/Stable-diffusion/7th_anime_v1.1.safetensors | awk '{print \"This model size =>\", $5}'"
      ],
      "metadata": {
        "id": "MtwdrtC1rMqO"
      },
      "execution_count": null,
      "outputs": []
    },
    {
      "cell_type": "markdown",
      "source": [
        "Download Model: yden v3.0"
      ],
      "metadata": {
        "id": "LD6GnFNIrZra"
      }
    },
    {
      "cell_type": "code",
      "source": [
        "# !curl -Lo /content/stable-diffusion-webui/models/Stable-diffusion/yden_v30.safetensors https://civitai.com/api/download/models/50483\n",
        "!aria2c \\\n",
        "  -d /content/stable-diffusion-webui/models/Stable-diffusion \\\n",
        "  -o yden_v30.safetensors \\\n",
        "  -x 2 \\\n",
        "  https://civitai.com/api/download/models/50483\n",
        "\n",
        "# check model size: Around 4GB. モデルの容量チェック。おおよそ 4GB で OK\n",
        "!ls -lh /content/stable-diffusion-webui/models/Stable-diffusion/yden_v30.safetensors | awk '{print \"This model size =>\", $5}'"
      ],
      "metadata": {
        "id": "9j_DTH5prbhs"
      },
      "execution_count": null,
      "outputs": []
    },
    {
      "cell_type": "markdown",
      "source": [
        "Download VAE"
      ],
      "metadata": {
        "id": "6q6hjXkTe9Lv"
      }
    },
    {
      "cell_type": "code",
      "source": [
        "!aria2c \\\n",
        "  -d /content/stable-diffusion-webui/models/VAE \\\n",
        "  -o vae-ft-mse-840000-ema-pruned.safetensors \\\n",
        "  -x 2 \\\n",
        "https://huggingface.co/stabilityai/sd-vae-ft-mse-original/resolve/main/vae-ft-mse-840000-ema-pruned.safetensors"
      ],
      "metadata": {
        "id": "CpLl0xlhe--A"
      },
      "execution_count": null,
      "outputs": []
    },
    {
      "cell_type": "markdown",
      "source": [
        "RUN WebUI"
      ],
      "metadata": {
        "id": "TQ5bAj8af4kw"
      }
    },
    {
      "cell_type": "code",
      "source": [
        "!COMMANDLINE_ARGS=\"--share --disable-safe-unpickle --no-half-vae --xformers --enable-insecure-extension --gradio-queue\" python launch.py"
      ],
      "metadata": {
        "id": "9ne_B8WJf4Am"
      },
      "execution_count": null,
      "outputs": []
    }
  ]
}